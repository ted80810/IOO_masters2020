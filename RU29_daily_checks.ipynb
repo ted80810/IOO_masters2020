{
 "cells": [
  {
   "cell_type": "markdown",
   "metadata": {},
   "source": [
    "# RU29\n",
    "\n",
    "This is the start of a notebook to plot the RU29 data ourselves.\n",
    "\n",
    "It uses a python packages called `erddapy` to connect to the glider data server. Before you run this for the first time you need to install `erddapy` in your python environment with the following commands in your terminal/powershell:\n",
    "\n",
    "`conda install --channel conda-forge erddapy`"
   ]
  },
  {
   "cell_type": "code",
   "execution_count": null,
   "metadata": {},
   "outputs": [],
   "source": [
    "import xarray as xr\n",
    "from erddapy import ERDDAP\n",
    "import matplotlib.pyplot as plt\n",
    "\n",
    "import cartopy.crs as ccrs\n",
    "\n",
    "import numpy as np\n",
    "\n"
   ]
  },
  {
   "cell_type": "markdown",
   "metadata": {},
   "source": [
    "# Connect to glider data server\n",
    "This code below uses `erddapy` to create a link to the glider data, then uses xarray to download it. This can take a little while! It also doesn't keep the dat on your computer, just loads it into memory for plotting. It will give you the most up to date data whenever you run it"
   ]
  },
  {
   "cell_type": "code",
   "execution_count": null,
   "metadata": {},
   "outputs": [],
   "source": [
    "\n",
    "# this creates a link to the RUCOOL server:\n",
    "e = ERDDAP(\n",
    "    server=\"http://slocum-data.marine.rutgers.edu/erddap\",\n",
    "    protocol=\"tabledap\",\n",
    "    response=\"nc\",\n",
    ")\n",
    "e2 = ERDDAP(\n",
    "    server=\"http://slocum-data.marine.rutgers.edu/erddap\",\n",
    "    protocol=\"tabledap\",\n",
    "    response=\"nc\",\n",
    ")\n",
    "# this points at the RU29 glider deployment\n",
    "# e.dataset_id = 'ru29-20200908T1623-profile-raw-rt'\n",
    "\n",
    "# get the science data:\n",
    "e.dataset_id = 'ru29-20200908T1623-profile-sci-rt'\n",
    "\n",
    "#get the engineering data:\n",
    "e2.dataset_id = \"ru29-20200908T1623-trajectory-raw-rt\"\n",
    "\n",
    "# this connects to the data and load into an xarray\n",
    "ds = e.to_xarray()\n",
    "ds2 = e2.to_xarray()\n",
    "# ds = e.to_pandas()\n"
   ]
  },
  {
   "cell_type": "code",
   "execution_count": null,
   "metadata": {},
   "outputs": [],
   "source": [
    "# print out the long list of data, dims, coords, variables\n",
    "\n",
    "ds"
   ]
  },
  {
   "cell_type": "markdown",
   "metadata": {},
   "source": [
    "# Plot glider dives"
   ]
  },
  {
   "cell_type": "code",
   "execution_count": null,
   "metadata": {},
   "outputs": [],
   "source": [
    "# make the figure biggger:\n",
    "fig = plt.figure(figsize=(10,5))\n",
    "\n",
    "plt.plot(ds.time, ds.depth, marker='.', linestyle='')\n",
    "plt.ylim([1000, 0])\n",
    "\n",
    "# you can zoom in on some time if you want:\n",
    "plt.xlim(['2020-10-01', '2020-10-05'])\n",
    "\n",
    "# this thing makes the dates axis look better:\n",
    "fig.autofmt_xdate()"
   ]
  },
  {
   "cell_type": "markdown",
   "metadata": {},
   "source": [
    "# Science plots"
   ]
  },
  {
   "cell_type": "code",
   "execution_count": null,
   "metadata": {},
   "outputs": [],
   "source": [
    "\n",
    "plt.figure()\n",
    "plt.plot(ds.potential_temperature, ds.depth, '.')\n",
    "plt.ylabel('depth')\n",
    "plt.xlabel('potential temperature')\n",
    "plt.ylim([1000, 0])\n",
    "\n",
    "\n",
    "# warning, scatter can take a long tiem!\n",
    "fig = plt.figure( figsize = (12,5))\n",
    "plt.scatter(ds.time, ds.depth, c=ds.salinity, )\n",
    "plt.colorbar(label='Salinity')\n",
    "plt.ylim([1000, 0])\n",
    "fig.autofmt_xdate()\n"
   ]
  },
  {
   "cell_type": "markdown",
   "metadata": {},
   "source": [
    "# make a map"
   ]
  },
  {
   "cell_type": "code",
   "execution_count": null,
   "metadata": {},
   "outputs": [],
   "source": [
    "\n",
    "# get a subset of the etopo data\n",
    "\n",
    "lat_lims = [16, 18.9]\n",
    "lon_lims = [-66, -61]\n",
    "\n",
    "# grab some bathymetry\n",
    "\n",
    "url = 'http://geoport.whoi.edu/thredds/dodsC/bathy/etopo1_bed_g2'\n",
    "\n",
    "etopo1 = xr.open_dataset(url).sel(lat = slice(lat_lims[0], lat_lims[1]), lon = slice(lon_lims[0], lon_lims[1] ))\n",
    "etopo1"
   ]
  },
  {
   "cell_type": "code",
   "execution_count": null,
   "metadata": {},
   "outputs": [],
   "source": [
    "\n",
    "plt.figure( figsize=(10,10))\n",
    "ax = plt.axes( projection = ccrs.Mercator() )\n",
    "ax.coastlines(resolution='10m')\n",
    "\n",
    "dpth_contours = np.append(np.arange(-5000, -500, 500), np.arange(-500, 0, 50)) \n",
    "\n",
    "plt.contourf( etopo1.lon, etopo1.lat, etopo1.topo, dpth_contours , transform=ccrs.PlateCarree(), cmap='Blues_r')\n",
    "\n",
    "plt.plot(ds.longitude, ds.latitude, 'k.', transform = ccrs.PlateCarree() )\n",
    "plt.plot(ds.longitude[-50:], ds.latitude[-50:], 'r.', transform = ccrs.PlateCarree() )\n",
    "\n",
    "\n",
    "ax.set_extent((-65.5,-63.5, 17, 18.5) )\n",
    "\n",
    "ax.gridlines(draw_labels=True)"
   ]
  },
  {
   "cell_type": "code",
   "execution_count": null,
   "metadata": {},
   "outputs": [],
   "source": [
    "fig = plt.figure(figsize=(10.0, 5.0))\n",
    "\n",
    "axes1 = fig.add_subplot(2, 2, 1)\n",
    "axes2 = fig.add_subplot(2, 2, 2)\n",
    "\n",
    "# axes1.plot(ds2.sci_water_temp, ds2.depth, '.')\n",
    "axes1.scatter(ds2.sci_water_temp, ds2.depth, c=ds2.time)\n",
    "axes1.set_ylim([100,0])\n",
    "axes1.set_xlim([24,31])\n",
    "axes1.set_ylabel('Depth')\n",
    "axes1.set_xlabel('Temperature')\n",
    "\n",
    "# axes2.plot(ds2.sci_water_temp, ds2.depth)\n",
    "axes2.scatter(ds2.sci_water_temp, ds2.depth, c=ds2.time)\n",
    "axes2.set_ylim([1000,900])\n",
    "axes2.set_xlim([4,11])\n",
    "axes2.set_ylabel('Depth')\n",
    "axes2.set_xlabel('Temperature')"
   ]
  },
  {
   "cell_type": "code",
   "execution_count": null,
   "metadata": {},
   "outputs": [],
   "source": []
  }
 ],
 "metadata": {
  "kernelspec": {
   "display_name": "Python 3",
   "language": "python",
   "name": "python3"
  },
  "language_info": {
   "codemirror_mode": {
    "name": "ipython",
    "version": 3
   },
   "file_extension": ".py",
   "mimetype": "text/x-python",
   "name": "python",
   "nbconvert_exporter": "python",
   "pygments_lexer": "ipython3",
   "version": "3.7.9"
  }
 },
 "nbformat": 4,
 "nbformat_minor": 4
}
